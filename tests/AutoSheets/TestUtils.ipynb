{
 "cells": [
  {
   "cell_type": "code",
   "execution_count": 1,
   "id": "cfe060b5",
   "metadata": {},
   "outputs": [],
   "source": [
    "x=1"
   ]
  },
  {
   "cell_type": "code",
   "execution_count": 2,
   "id": "9dde0a8e",
   "metadata": {},
   "outputs": [
    {
     "data": {
      "text/plain": [
       "1"
      ]
     },
     "execution_count": 2,
     "metadata": {},
     "output_type": "execute_result"
    }
   ],
   "source": [
    "x"
   ]
  },
  {
   "cell_type": "code",
   "execution_count": 3,
   "id": "cf46827c",
   "metadata": {},
   "outputs": [],
   "source": [
    "import xloil"
   ]
  },
  {
   "cell_type": "code",
   "execution_count": 4,
   "id": "f073aebd",
   "metadata": {},
   "outputs": [],
   "source": []
  },
  {
   "cell_type": "code",
   "execution_count": null,
   "id": "b3ae4660",
   "metadata": {},
   "outputs": [],
   "source": []
  },
  {
   "cell_type": "code",
   "execution_count": 4,
   "id": "c2d866df",
   "metadata": {},
   "outputs": [
    {
     "data": {
      "text/plain": [
       "3"
      ]
     },
     "execution_count": 4,
     "metadata": {},
     "output_type": "execute_result"
    }
   ],
   "source": [
    "xloil.importer._source_file.get(3)"
   ]
  },
  {
   "cell_type": "code",
   "execution_count": 5,
   "id": "3be6f112",
   "metadata": {},
   "outputs": [
    {
     "data": {
      "text/plain": [
       "'TestUtils.xlsx'"
      ]
     },
     "execution_count": 5,
     "metadata": {},
     "output_type": "execute_result"
    }
   ],
   "source": [
    "xloil.linked_workbook()"
   ]
  },
  {
   "cell_type": "code",
   "execution_count": 7,
   "id": "8594e9b2",
   "metadata": {},
   "outputs": [],
   "source": [
    "@xloil.func\n",
    "def foobar(x):\n",
    "    return f\"Hello {x}\"\n",
    "ws = xloil.active_workbook().worksheets.add()\n",
    "ws['A1'].formula = '=foobar(\"World\")'"
   ]
  },
  {
   "cell_type": "code",
   "execution_count": 8,
   "id": "5ac61d60",
   "metadata": {},
   "outputs": [
    {
     "data": {
      "text/plain": [
       "[FrameInfo(frame=<frame at 0x000001E3C0637360, file 'C:\\\\Users\\\\Steven\\\\AppData\\\\Local\\\\Temp\\\\ipykernel_16196\\\\4083536302.py', line 2, code <cell line: 2>>, filename='C:\\\\Users\\\\Steven\\\\AppData\\\\Local\\\\Temp\\\\ipykernel_16196\\\\4083536302.py', lineno=2, function='<cell line: 2>', code_context=['inspect.stack()\\n'], index=0),\n",
       " FrameInfo(frame=<frame at 0x000001E3BF20DCF0, file 'C:\\\\lib\\\\conda39\\\\lib\\\\site-packages\\\\IPython\\\\core\\\\interactiveshell.py', line 3398, code run_code>, filename='C:\\\\lib\\\\conda39\\\\lib\\\\site-packages\\\\IPython\\\\core\\\\interactiveshell.py', lineno=3398, function='run_code', code_context=['                    exec(code_obj, self.user_global_ns, self.user_ns)\\n'], index=0),\n",
       " FrameInfo(frame=<frame at 0x000001E3C1D39130, file 'C:\\\\lib\\\\conda39\\\\lib\\\\site-packages\\\\IPython\\\\core\\\\interactiveshell.py', line 3338, code run_ast_nodes>, filename='C:\\\\lib\\\\conda39\\\\lib\\\\site-packages\\\\IPython\\\\core\\\\interactiveshell.py', lineno=3338, function='run_ast_nodes', code_context=['                if await self.run_code(code, result, async_=asy):\\n'], index=0),\n",
       " FrameInfo(frame=<frame at 0x000001E3BEBDC060, file 'C:\\\\lib\\\\conda39\\\\lib\\\\site-packages\\\\IPython\\\\core\\\\interactiveshell.py', line 3135, code run_cell_async>, filename='C:\\\\lib\\\\conda39\\\\lib\\\\site-packages\\\\IPython\\\\core\\\\interactiveshell.py', lineno=3135, function='run_cell_async', code_context=['                has_raised = await self.run_ast_nodes(code_ast.body, cell_name,\\n'], index=0),\n",
       " FrameInfo(frame=<frame at 0x000001E3BF2096F0, file 'C:\\\\lib\\\\conda39\\\\lib\\\\site-packages\\\\IPython\\\\core\\\\async_helpers.py', line 129, code _pseudo_sync_runner>, filename='C:\\\\lib\\\\conda39\\\\lib\\\\site-packages\\\\IPython\\\\core\\\\async_helpers.py', lineno=129, function='_pseudo_sync_runner', code_context=['        coro.send(None)\\n'], index=0),\n",
       " FrameInfo(frame=<frame at 0x000001E3BEBC9BE0, file 'C:\\\\lib\\\\conda39\\\\lib\\\\site-packages\\\\IPython\\\\core\\\\interactiveshell.py', line 2936, code _run_cell>, filename='C:\\\\lib\\\\conda39\\\\lib\\\\site-packages\\\\IPython\\\\core\\\\interactiveshell.py', lineno=2936, function='_run_cell', code_context=['            return runner(coro)\\n'], index=0),\n",
       " FrameInfo(frame=<frame at 0x000001E3BF20CB70, file 'C:\\\\lib\\\\conda39\\\\lib\\\\site-packages\\\\IPython\\\\core\\\\interactiveshell.py', line 2881, code run_cell>, filename='C:\\\\lib\\\\conda39\\\\lib\\\\site-packages\\\\IPython\\\\core\\\\interactiveshell.py', lineno=2881, function='run_cell', code_context=['            result = self._run_cell(\\n'], index=0),\n",
       " FrameInfo(frame=<frame at 0x000001DBBC7F9700, file 'C:\\\\lib\\\\conda39\\\\lib\\\\site-packages\\\\ipykernel\\\\zmqshell.py', line 528, code run_cell>, filename='C:\\\\lib\\\\conda39\\\\lib\\\\site-packages\\\\ipykernel\\\\zmqshell.py', lineno=528, function='run_cell', code_context=['        return super().run_cell(*args, **kwargs)\\n'], index=0),\n",
       " FrameInfo(frame=<frame at 0x000001E3BE8BF910, file 'C:\\\\lib\\\\conda39\\\\lib\\\\site-packages\\\\ipykernel\\\\ipkernel.py', line 383, code do_execute>, filename='C:\\\\lib\\\\conda39\\\\lib\\\\site-packages\\\\ipykernel\\\\ipkernel.py', lineno=383, function='do_execute', code_context=['                    res = shell.run_cell(\\n'], index=0),\n",
       " FrameInfo(frame=<frame at 0x000001DBBC7F8400, file 'C:\\\\lib\\\\conda39\\\\Lib\\\\asyncio\\\\tasks.py', line 256, code __step>, filename='C:\\\\lib\\\\conda39\\\\Lib\\\\asyncio\\\\tasks.py', lineno=256, function='__step', code_context=['                result = coro.send(None)\\n'], index=0),\n",
       " FrameInfo(frame=<frame at 0x000001E3BEC39B40, file 'C:\\\\lib\\\\conda39\\\\lib\\\\site-packages\\\\nest_asyncio.py', line 195, code step>, filename='C:\\\\lib\\\\conda39\\\\lib\\\\site-packages\\\\nest_asyncio.py', lineno=195, function='step', code_context=['            step_orig(task, exc)\\n'], index=0),\n",
       " FrameInfo(frame=<frame at 0x000001E3BECEBFD0, file 'C:\\\\lib\\\\conda39\\\\Lib\\\\asyncio\\\\events.py', line 80, code _run>, filename='C:\\\\lib\\\\conda39\\\\Lib\\\\asyncio\\\\events.py', lineno=80, function='_run', code_context=['            self._context.run(self._callback, *self._args)\\n'], index=0),\n",
       " FrameInfo(frame=<frame at 0x000001E3BF209920, file 'C:\\\\lib\\\\conda39\\\\lib\\\\site-packages\\\\nest_asyncio.py', line 119, code _run_once>, filename='C:\\\\lib\\\\conda39\\\\lib\\\\site-packages\\\\nest_asyncio.py', lineno=119, function='_run_once', code_context=['                handle._run()\\n'], index=0),\n",
       " FrameInfo(frame=<frame at 0x000001E3BEE5D0B0, file 'C:\\\\lib\\\\conda39\\\\lib\\\\site-packages\\\\nest_asyncio.py', line 83, code run_until_complete>, filename='C:\\\\lib\\\\conda39\\\\lib\\\\site-packages\\\\nest_asyncio.py', lineno=83, function='run_until_complete', code_context=['                self._run_once()\\n'], index=0),\n",
       " FrameInfo(frame=<frame at 0x000001E3BF20CDA0, file 'C:\\\\lib\\\\conda39\\\\lib\\\\site-packages\\\\jupyter_client\\\\utils.py', line 23, code wrapped>, filename='C:\\\\lib\\\\conda39\\\\lib\\\\site-packages\\\\jupyter_client\\\\utils.py', lineno=23, function='wrapped', code_context=['            return loop.run_until_complete(future)\\n'], index=0),\n",
       " FrameInfo(frame=<frame at 0x000001DBBC7F4640, file 'C:\\\\Users\\\\Steven\\\\dev\\\\xloil\\\\libs\\\\xlOil_Python\\\\Package\\\\xloil\\\\inprocess_kernel.py', line 68, code <lambda>>, filename='C:\\\\Users\\\\Steven\\\\dev\\\\xloil\\\\libs\\\\xlOil_Python\\\\Package\\\\xloil\\\\inprocess_kernel.py', lineno=68, function='<lambda>', code_context=['        run = lambda: real_do_execute(*args, **kwargs)\\n'], index=0)]"
      ]
     },
     "execution_count": 8,
     "metadata": {},
     "output_type": "execute_result"
    }
   ],
   "source": [
    "import inspect\n",
    "inspect.stack()"
   ]
  },
  {
   "cell_type": "code",
   "execution_count": 9,
   "id": "7fca6859",
   "metadata": {},
   "outputs": [],
   "source": [
    "import inspect\n",
    "inspect.getmodule(jpyTest.__wrapped__.__name__)"
   ]
  },
  {
   "cell_type": "code",
   "execution_count": null,
   "id": "953b9971",
   "metadata": {},
   "outputs": [],
   "source": []
  }
 ],
 "metadata": {
  "kernel_info": {
   "name": "xloil_kernel-19012"
  },
  "kernelspec": {
   "display_name": "Python 3 (ipykernel)",
   "language": "python",
   "name": "python3"
  },
  "language_info": {
   "codemirror_mode": {
    "name": "ipython",
    "version": 3
   },
   "file_extension": ".py",
   "mimetype": "text/x-python",
   "name": "python",
   "nbconvert_exporter": "python",
   "pygments_lexer": "ipython3",
   "version": "3.9.1"
  }
 },
 "nbformat": 4,
 "nbformat_minor": 5
}
